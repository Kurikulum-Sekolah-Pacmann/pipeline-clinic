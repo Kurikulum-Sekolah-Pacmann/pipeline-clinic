{
 "cells": [
  {
   "cell_type": "markdown",
   "metadata": {},
   "source": [
    "# Week #6 - Live Class\n",
    "Data Pipeline Course - Sekolah Engineer - Pacmann Academy \n",
    "\n"
   ]
  },
  {
   "cell_type": "markdown",
   "metadata": {},
   "source": [
    "## Objective"
   ]
  },
  {
   "cell_type": "markdown",
   "metadata": {},
   "source": [
    "Objective:\n",
    "1. Create Data Pipeline for integrating clinic data"
   ]
  },
  {
   "cell_type": "markdown",
   "metadata": {},
   "source": [
    "## Case Description"
   ]
  },
  {
   "cell_type": "markdown",
   "metadata": {},
   "source": [
    "1. `Problem` <br>\n",
    "In the clinic's data infrastructure, there are multiple data sources that need to be integrated and cleaned. Specifically, data is coming from various systems including spreadsheet maintenance request records, the Clinic database, and the Clinic Ops database. \n",
    "    - Spreadsheet maintenance request data: Contains request for maintenance clinic's equipment\n",
    "    - the Clinic Database: Contains data appointment and prescription patient\n",
    "    - Clinic Ops databases: Contains operasional data, like employee salary, leave request, equipment, etc\n",
    "\n",
    "2. `Solution` <br>\n",
    "To address these issues, an ETL (Extract, Transform, Load) pipeline will be developed. This pipeline will extract data from the different sources, apply necessary transformations to clean and standardize the data, and then load it into a unified data warehouse. \n",
    "The pipeline will have 2 Layers, Staging and Warehouse, have Log system and Validation system <br>\n",
    "\n",
    "<img src='https://sekolahdata-assets.s3.ap-southeast-1.amazonaws.com/notebook-images/mde-data-ingestion-spark/data_pipeline_workflow.png' width=\"800\"> <br>"
   ]
  },
  {
   "cell_type": "markdown",
   "metadata": {},
   "source": [
    "## Preparation"
   ]
  },
  {
   "cell_type": "markdown",
   "metadata": {},
   "source": [
    "`Source Dataset`: \n",
    "1. Duplicate maintenance_request data: [Link](https://docs.google.com/spreadsheets/d/1hahMgeJw_ki35tANErRzbxzFMJJKV3aetIboL4_vJ-o/edit?usp=sharing)\n",
    "2. Restore Database Clinic: [Link](https://drive.google.com/file/d/1ClXTIIKaELOei7TB9eGBY0Y7hHY-_2It/view?usp=sharing)\n",
    "3. Restore Database Clinic Ops: [Link](https://drive.google.com/file/d/1UlMTbWRLHtuss4huR4icnJDWlijPjdw1/view?usp=sharing)\n",
    "\n",
    "`Target Storage`\n",
    "1. Staging: [Link](https://drive.google.com/file/d/1KxLDIaYSHf8inbZ2fLN0sDeckSfemaXv/view?usp=sharing)\n",
    "2. Warehouse: [Link](https://drive.google.com/file/d/18ShJnBZwIKO3CGFXlANa9xmnIB-lhrAb/view?usp=sharing)\n",
    "3. Log:[Link](https://drive.google.com/file/d/1uSXglsJLVupIfIKnm2_6H31s7x5w5AYB/view?usp=sharing)\n",
    "\n",
    "`Tools and Technologies`:\n",
    "- Python: For build Data Pipeline\n",
    "- PostgreSQL: For log, staging and final data storage.\n",
    "- MinIO: For load failed data, load vaidation and profiling report.\n",
    "- Docker: For running MinIO\n",
    "\n",
    "`Repository`:\n",
    "https://github.com/Kurikulum-Sekolah-Pacmann/pipeline-clinic.git \n"
   ]
  },
  {
   "cell_type": "markdown",
   "metadata": {},
   "source": [
    "## Task"
   ]
  },
  {
   "cell_type": "markdown",
   "metadata": {},
   "source": [
    "1. `Profiling` <br>\n",
    "Profiling involves analyzing and understanding the structure, content, and quality of the data from multiple sources within the clinic\n",
    "\n",
    "2. `Building Data Pipeline EL Source to Staging` <br>\n",
    "This step focuses on extracting data from the clinic’s various source systems, such as maintenance_request data, Clinic Database, and Clinic Ops Database. The extracted data is then loaded into a staging area\n",
    "\n",
    "3. `Building Data Pipeline ETL Staging to Warehouse` <br>\n",
    "In this phase, the cleaned and validated data from the staging area is transformed and loaded into the data warehouse"
   ]
  },
  {
   "cell_type": "markdown",
   "metadata": {},
   "source": [
    "### Profiling"
   ]
  },
  {
   "cell_type": "markdown",
   "metadata": {},
   "source": [
    "In this task, you will conduct a profiling of each table or spreadsheet provided in the dataset. The profiling process involves the following steps:\n",
    "1. Check Unique Values: \n",
    "2. Check Data Types\n",
    "3. Check Percentage of Missing Values\n",
    "4. Check Percentage of Valid Date Format"
   ]
  },
  {
   "cell_type": "markdown",
   "metadata": {},
   "source": [
    "The first step in the profiling process is to `extract the data` from the source systems. This involves gathering data from various tables or spreadsheets that are part of the clinic's operational and clinical data repositories."
   ]
  },
  {
   "cell_type": "code",
   "execution_count": 5,
   "metadata": {},
   "outputs": [],
   "source": [
    "from src.profiling.profiling import Profiling\n",
    "from src.profiling.extract.extract_db import extract_database\n",
    "from src.profiling.extract.extract_db import extract_list_table\n",
    "from src.profiling.extract.extract_spreadsheet import extract_sheet"
   ]
  },
  {
   "cell_type": "markdown",
   "metadata": {},
   "source": [
    "Profiling involves `selecting specific columns from each table` to examine their data types, unique values, percentage of missing values, and percentage of valid date formats."
   ]
  },
  {
   "cell_type": "markdown",
   "metadata": {},
   "source": [
    "#### Profiling Data Spreadsheet"
   ]
  },
  {
   "cell_type": "code",
   "execution_count": 23,
   "metadata": {},
   "outputs": [],
   "source": [
    "# Extract data from spreadsheet\n",
    "df_maintenance_request = extract_sheet('maintenance_request')"
   ]
  },
  {
   "cell_type": "code",
   "execution_count": 24,
   "metadata": {},
   "outputs": [],
   "source": [
    "# create profiling object\n",
    "maintenance_request_profiling = Profiling(data = df_maintenance_request, table_name='maintenance_request')"
   ]
  },
  {
   "cell_type": "code",
   "execution_count": 25,
   "metadata": {},
   "outputs": [
    {
     "data": {
      "text/plain": [
       "['name', 'serial_number', 'request_date', 'location', 'request_note']"
      ]
     },
     "execution_count": 25,
     "metadata": {},
     "output_type": "execute_result"
    }
   ],
   "source": [
    "# get columns from the table\n",
    "maintenance_request_profiling.get_columns()"
   ]
  },
  {
   "cell_type": "code",
   "execution_count": 15,
   "metadata": {},
   "outputs": [],
   "source": [
    "# Set Profiling Rule\n",
    "# list check data type (all columns)\n",
    "data_type_column = maintenance_request_profiling.get_columns()\n",
    "\n",
    "#list check unique values\n",
    "unique_values_column = ['location','request_note']\n",
    "\n",
    "#list check percentage missing values\n",
    "missing_values_column = ['request_date','location','request_note']\n",
    "\n",
    "#list check valid date values\n",
    "valid_date_column = ['request_date']\n",
    "\n",
    "# Set Profiling rule to object\n",
    "maintenance_request_profiling.selected_columns(data_type_column, unique_values_column, missing_values_column, valid_date_column)\n"
   ]
  },
  {
   "cell_type": "code",
   "execution_count": 16,
   "metadata": {},
   "outputs": [
    {
     "name": "stdout",
     "output_type": "stream",
     "text": [
      "{'created_at': '2024-08-13', 'report': {'name': {'data_type': 'object'}, 'serial_number': {'data_type': 'object'}, 'request_date': {'data_type': 'object', 'percentage_missing_value': 0.0, 'percentage_valid_date': 100.0}, 'location': {'data_type': 'object', 'unique_value': ['labour room', 'Ophthalmic and ENT', 'OPD', 'General Instruments', 'Operation Theater', 'Ophthalmic and ENTm', 'Operation Theater or Manual'], 'percentage_missing_value': 0.0}, 'request_note': {'data_type': 'object', 'unique_value': ['Equipment inspection', 'Routine maintenance', 'Equipment calibration', 'Equipment cleaning', 'Equipment repair'], 'percentage_missing_value': 0.0}}}\n"
     ]
    }
   ],
   "source": [
    "# Create Reporting Profiling\n",
    "report_maintenance_request = maintenance_request_profiling.reporting()"
   ]
  },
  {
   "cell_type": "code",
   "execution_count": 17,
   "metadata": {},
   "outputs": [
    {
     "data": {
      "text/plain": [
       "{'created_at': '2024-08-13',\n",
       " 'report': {'name': {'data_type': 'object'},\n",
       "  'serial_number': {'data_type': 'object'},\n",
       "  'request_date': {'data_type': 'object',\n",
       "   'percentage_missing_value': 0.0,\n",
       "   'percentage_valid_date': 100.0},\n",
       "  'location': {'data_type': 'object',\n",
       "   'unique_value': ['labour room',\n",
       "    'Ophthalmic and ENT',\n",
       "    'OPD',\n",
       "    'General Instruments',\n",
       "    'Operation Theater',\n",
       "    'Ophthalmic and ENTm',\n",
       "    'Operation Theater or Manual'],\n",
       "   'percentage_missing_value': 0.0},\n",
       "  'request_note': {'data_type': 'object',\n",
       "   'unique_value': ['Equipment inspection',\n",
       "    'Routine maintenance',\n",
       "    'Equipment calibration',\n",
       "    'Equipment cleaning',\n",
       "    'Equipment repair'],\n",
       "   'percentage_missing_value': 0.0}}}"
      ]
     },
     "execution_count": 17,
     "metadata": {},
     "output_type": "execute_result"
    }
   ],
   "source": [
    "report_maintenance_request"
   ]
  },
  {
   "cell_type": "markdown",
   "metadata": {},
   "source": [
    "#### Profiling Data Database Clinic"
   ]
  },
  {
   "cell_type": "code",
   "execution_count": 2,
   "metadata": {},
   "outputs": [
    {
     "name": "stdout",
     "output_type": "stream",
     "text": [
      "     table_name\n",
      "0       patient\n",
      "1   appointment\n",
      "2    speciality\n",
      "3        doctor\n",
      "4  prescription\n",
      "5    medication\n"
     ]
    }
   ],
   "source": [
    "# Extract list of table in Database Clinic\n",
    "list_table = extract_list_table(db_name='clinic')\n",
    "print(list_table)"
   ]
  },
  {
   "cell_type": "code",
   "execution_count": 4,
   "metadata": {},
   "outputs": [
    {
     "data": {
      "text/plain": [
       "['patient_id',\n",
       " 'name',\n",
       " 'dob',\n",
       " 'gender',\n",
       " 'phone_number',\n",
       " 'address',\n",
       " 'state_code',\n",
       " 'created_at']"
      ]
     },
     "execution_count": 4,
     "metadata": {},
     "output_type": "execute_result"
    }
   ],
   "source": [
    "# Profiling Table patient\n",
    "df_patient = extract_database('clinic', 'patient')\n",
    "\n",
    "# create profiling object\n",
    "patient_profiling = Profiling(data = df_patient, table_name='patient')\n",
    "\n",
    "# get columns from the table\n",
    "patient_profiling.get_columns()"
   ]
  },
  {
   "cell_type": "code",
   "execution_count": 5,
   "metadata": {},
   "outputs": [],
   "source": [
    "# Set Profiling Rule\n",
    "# list check data type (all columns)\n",
    "data_type_column = patient_profiling.get_columns()\n",
    "\n",
    "#list check unique values\n",
    "unique_values = ['state_code']\n",
    "\n",
    "#list check percentage missing values\n",
    "missing_values = ['phone_number', 'address', 'state_code']\n",
    "\n",
    "#list check valid date values\n",
    "valid_date = ['dob']\n",
    "\n",
    "# Set Profiling rule to object\n",
    "patient_profiling.selected_columns(data_type_column, unique_values, missing_values, valid_date)"
   ]
  },
  {
   "cell_type": "code",
   "execution_count": 6,
   "metadata": {},
   "outputs": [
    {
     "name": "stdout",
     "output_type": "stream",
     "text": [
      "{'created_at': '2024-08-13', 'report': {'patient_id': {'data_type': 'int64'}, 'name': {'data_type': 'object'}, 'dob': {'data_type': 'object', 'percentage_valid_date': 100.0}, 'gender': {'data_type': 'object'}, 'phone_number': {'data_type': 'object', 'percentage_missing_value': 0.0}, 'address': {'data_type': 'object', 'percentage_missing_value': 0.0}, 'state_code': {'data_type': 'object', 'unique_value': ['WA', 'NSW', 'NT', 'VIC', 'QLD', 'TAS', 'FO', 'YQ', 'PY', 'ZV', 'RB', 'PU', 'BP', 'LK', 'SV', 'GB', 'HJ', 'JN', 'EC', 'WF', 'SD', 'NY', 'RD', 'LP', 'IU', 'BY', 'JT', 'KH', 'OL', 'VC', 'YG', 'AT', 'UT', 'JA', 'LD', 'EV', 'BD', 'TA', 'OZ', 'CT', 'LB', 'DR', 'FW', 'TL', 'BS', 'PT', 'TI', 'PN', 'QX', 'IJ', 'HV', 'PR', 'WV', 'IQ', 'TR', 'GZ', 'NV', 'EJ', 'NE', 'HB', 'BA', 'AS', 'OP', 'AN', 'UU', 'PG', 'DC', 'YP', 'AH', 'CO', 'MR', 'BX', 'ZN', 'NP', 'PB', 'EW', 'SA', 'WT', 'WL', 'KS', 'CH', 'YF', 'FA', 'AF', 'DN', 'MW', 'JM', 'XI', 'FU', 'MM', 'IF', 'IH', 'CB', 'IA', 'XK', 'FI', 'CV', 'LQ', 'LS', 'ME', 'PJ', 'CQ', 'RP', 'JI', 'GI', 'VZ', 'IR', 'ZF', 'QO', 'WP', 'KA', 'HH', 'RT', 'UE', 'VU', 'AJ', 'IY', 'XP', 'FL', 'WS', 'ON', 'VJ', 'NJ', 'YL', 'BG', 'XM', 'ZU', 'KP', 'HX', 'NA', 'CM', 'GR', 'IE', 'XR', 'WM', 'XC', 'CE', 'IV', 'LJ', 'QZ', 'NO', 'GS', 'MZ', 'MN', 'RX', 'UY', 'HE', 'RN', 'BB', 'FN', 'RQ', 'GX', 'WC', 'QR', 'MO', 'MD', 'WJ', 'QV', 'EP', 'KI', 'HQ', 'WB', 'JD', 'RA', 'GL', 'BR', 'GY', 'OC', 'NM', 'DQ', 'HW', 'NN', 'RK', 'OR', 'GW', 'CG', 'BL', 'XZ', 'HY', 'DY', 'XE', 'HC', 'UX', 'SM', 'GT', 'YH', 'UK', 'FP', 'SG', 'AI', 'HR', 'RZ', 'PS', 'TQ', 'HS', 'OY', 'KU', 'WY', 'JU', 'PP', 'XH', 'YZ', 'SC', 'OU', 'XN', 'OK', 'WI', 'VX', 'UZ', 'LM', 'TX', 'YB', 'PV', 'SX', 'SH', 'ZP', 'ST', 'OJ', 'LU', 'BH', 'DU', 'US', 'AZ', 'NB', 'OH', 'WD', 'EE', 'MS', 'SU', 'II', 'MA', 'VI', 'HN', 'SS', 'VT', 'VS', 'XA', 'HM', 'TS', 'IN', 'KY', 'XG', 'MJ', 'UG', 'ZQ', 'MQ', 'TO', 'UV', 'BK', 'AD', 'AP', 'YJ', 'LY', 'LF', 'MY', 'ZR', 'QP', 'BW', 'GU', 'NS', 'FE', 'PH', 'NR', 'LA', 'OF', 'GD', 'OS', 'QQ', 'IO', 'KE', 'OI', 'VG', 'TW', 'KX', 'LG', 'GF', 'AU', 'QE', 'SR', 'BE', 'ZH', 'SF', 'XW', 'KL', 'LX', 'TE', 'LN', 'FY', 'FD', 'PZ', 'HL', 'JZ', 'GK', 'QM', 'WR', 'OQ', 'DG', 'DE', 'KJ', 'ML', 'YD', 'QK', 'FJ', 'ET', 'CR', 'IP', 'UW', 'BV', 'OB', 'QL', 'FV', 'SQ', 'DX', 'KK', 'LW', 'EA', 'DM', 'XV', 'GA', 'LC', 'JR', 'NQ', 'QB', 'FX', 'ZB', 'IS', 'KW', 'CP', 'AV', 'YU', 'KD', 'EF', 'IG', 'XT', 'ND', 'OW', 'JH', 'FR', 'SZ', 'SY', 'CU', 'CD', 'DT', 'FC', 'JO', 'EU', 'CL', 'EN', 'QH', 'UB', 'UN', 'AG', 'IT', 'LH', 'YK', 'NI', 'NX', 'QF', 'HG', 'GO', 'YS', 'TT', 'CC', 'HK', 'JC', 'JE', 'JW', 'AQ', 'WQ', 'UH', 'WW', 'NU', 'UO', 'NG', 'CS', 'XO', 'FK', 'DZ', 'DW', 'YT', 'LI', 'YI', 'FZ', 'CI', 'JY', 'UQ', 'EK', 'AL', 'HI', 'QT', 'JV', 'KZ', 'TN', 'YR', 'TD', 'ZZ', 'UP', 'NH', 'DH', 'QS', 'MU', 'PL', 'ER', 'LV', 'HO', 'UL', 'VW', 'SK', 'VD', 'VO', 'SW', 'IM', 'SO', 'NL', 'JQ', 'YY', 'CK', 'VL', 'EX', 'PX', 'EY', 'TJ', 'GN', 'QD', 'MB', 'FG', 'GG', 'TY', 'IW', 'MX', 'DF', 'ZD', 'DI', 'HA', 'XX', 'UM', 'UC', 'YM', 'XJ', 'RW', 'FS', 'AB', 'OV', 'ZX', 'BN', 'ZA', 'HP', 'CJ', 'QG', 'EM', 'KM', 'PO', 'KG', 'ZW', 'CX', 'GQ', 'MP', 'FF', 'HZ', 'CF', 'NC', 'WG', 'XD', 'IK', 'ZJ', 'IL', 'PC', 'QU', 'BO', 'AR', 'VV', 'SB', 'KV', 'CN', 'GV', 'QI', 'AO', 'KR', 'IC', 'PQ', 'XQ', 'MV', 'GH', 'SN', 'FT', 'KO', 'RH', 'WZ', 'MK', 'AK', 'TP', 'XU', 'UJ', 'AW', 'GC', 'SP', 'OA', 'TH', 'WX', 'YA', 'XY', 'OM', 'CY', 'CZ', 'AX', 'EB', 'UI', 'TK', 'XB', 'YW', 'RJ', 'ZC', 'DJ', 'MC', 'IX', 'JP', 'ZE', 'MH', 'TB', 'VR', 'QA', 'ZS', 'BJ', 'RL', 'RY', 'YC', 'JF', 'ZT', 'QC', 'YX', 'QN', 'RR', 'FB', 'WE', 'OO', 'NK', 'ZK', 'ZO', 'ED', 'BQ', 'RE', 'TM', 'JK', 'MG', 'QJ', 'GP', 'UA', 'JG', 'JJ', 'BM', 'YE', 'XS', 'LT', 'LE', 'HU', 'VY', 'EZ', 'KQ', 'EG', 'DO', 'WK', 'RF', 'BC', 'WH', 'VQ', 'KN', 'GE', 'BU', 'BI', 'OD', 'KB', 'MT', 'TU', 'NZ', 'UD', 'HF', 'SI', 'BF', 'KF', 'TZ', 'EI', 'VB', 'RG', 'DP', 'VH', 'UR', 'AC', 'YV', 'KT', 'TC', 'OE', 'AA', 'FM', 'EL', 'DA', 'GM', 'MI', 'RS', 'JS', 'YO', 'ZM', 'TF', 'PW', 'BT', 'DK', 'ZY', 'CW', 'KC', 'DV', 'VM', 'DL', 'TV', 'WN', 'QY', 'CA', 'OX', 'SE', 'JX', 'SL', 'EH', 'ZL', 'JL', 'ZG', 'XF', 'VF', 'RI', 'PE', 'ZI', 'PA', 'LL', 'PK', 'VP', 'RV', 'LZ', 'EO', 'QW', 'DD', 'DS', 'PF', 'OG', 'RM', 'YN', 'IB'], 'percentage_missing_value': 0.0}, 'created_at': {'data_type': 'datetime64[ns, UTC]'}}}\n"
     ]
    },
    {
     "data": {
      "text/plain": [
       "{'created_at': '2024-08-13',\n",
       " 'report': {'patient_id': {'data_type': 'int64'},\n",
       "  'name': {'data_type': 'object'},\n",
       "  'dob': {'data_type': 'object', 'percentage_valid_date': 100.0},\n",
       "  'gender': {'data_type': 'object'},\n",
       "  'phone_number': {'data_type': 'object', 'percentage_missing_value': 0.0},\n",
       "  'address': {'data_type': 'object', 'percentage_missing_value': 0.0},\n",
       "  'state_code': {'data_type': 'object',\n",
       "   'unique_value': ['WA',\n",
       "    'NSW',\n",
       "    'NT',\n",
       "    'VIC',\n",
       "    'QLD',\n",
       "    'TAS',\n",
       "    'FO',\n",
       "    'YQ',\n",
       "    'PY',\n",
       "    'ZV',\n",
       "    'RB',\n",
       "    'PU',\n",
       "    'BP',\n",
       "    'LK',\n",
       "    'SV',\n",
       "    'GB',\n",
       "    'HJ',\n",
       "    'JN',\n",
       "    'EC',\n",
       "    'WF',\n",
       "    'SD',\n",
       "    'NY',\n",
       "    'RD',\n",
       "    'LP',\n",
       "    'IU',\n",
       "    'BY',\n",
       "    'JT',\n",
       "    'KH',\n",
       "    'OL',\n",
       "    'VC',\n",
       "    'YG',\n",
       "    'AT',\n",
       "    'UT',\n",
       "    'JA',\n",
       "    'LD',\n",
       "    'EV',\n",
       "    'BD',\n",
       "    'TA',\n",
       "    'OZ',\n",
       "    'CT',\n",
       "    'LB',\n",
       "    'DR',\n",
       "    'FW',\n",
       "    'TL',\n",
       "    'BS',\n",
       "    'PT',\n",
       "    'TI',\n",
       "    'PN',\n",
       "    'QX',\n",
       "    'IJ',\n",
       "    'HV',\n",
       "    'PR',\n",
       "    'WV',\n",
       "    'IQ',\n",
       "    'TR',\n",
       "    'GZ',\n",
       "    'NV',\n",
       "    'EJ',\n",
       "    'NE',\n",
       "    'HB',\n",
       "    'BA',\n",
       "    'AS',\n",
       "    'OP',\n",
       "    'AN',\n",
       "    'UU',\n",
       "    'PG',\n",
       "    'DC',\n",
       "    'YP',\n",
       "    'AH',\n",
       "    'CO',\n",
       "    'MR',\n",
       "    'BX',\n",
       "    'ZN',\n",
       "    'NP',\n",
       "    'PB',\n",
       "    'EW',\n",
       "    'SA',\n",
       "    'WT',\n",
       "    'WL',\n",
       "    'KS',\n",
       "    'CH',\n",
       "    'YF',\n",
       "    'FA',\n",
       "    'AF',\n",
       "    'DN',\n",
       "    'MW',\n",
       "    'JM',\n",
       "    'XI',\n",
       "    'FU',\n",
       "    'MM',\n",
       "    'IF',\n",
       "    'IH',\n",
       "    'CB',\n",
       "    'IA',\n",
       "    'XK',\n",
       "    'FI',\n",
       "    'CV',\n",
       "    'LQ',\n",
       "    'LS',\n",
       "    'ME',\n",
       "    'PJ',\n",
       "    'CQ',\n",
       "    'RP',\n",
       "    'JI',\n",
       "    'GI',\n",
       "    'VZ',\n",
       "    'IR',\n",
       "    'ZF',\n",
       "    'QO',\n",
       "    'WP',\n",
       "    'KA',\n",
       "    'HH',\n",
       "    'RT',\n",
       "    'UE',\n",
       "    'VU',\n",
       "    'AJ',\n",
       "    'IY',\n",
       "    'XP',\n",
       "    'FL',\n",
       "    'WS',\n",
       "    'ON',\n",
       "    'VJ',\n",
       "    'NJ',\n",
       "    'YL',\n",
       "    'BG',\n",
       "    'XM',\n",
       "    'ZU',\n",
       "    'KP',\n",
       "    'HX',\n",
       "    'NA',\n",
       "    'CM',\n",
       "    'GR',\n",
       "    'IE',\n",
       "    'XR',\n",
       "    'WM',\n",
       "    'XC',\n",
       "    'CE',\n",
       "    'IV',\n",
       "    'LJ',\n",
       "    'QZ',\n",
       "    'NO',\n",
       "    'GS',\n",
       "    'MZ',\n",
       "    'MN',\n",
       "    'RX',\n",
       "    'UY',\n",
       "    'HE',\n",
       "    'RN',\n",
       "    'BB',\n",
       "    'FN',\n",
       "    'RQ',\n",
       "    'GX',\n",
       "    'WC',\n",
       "    'QR',\n",
       "    'MO',\n",
       "    'MD',\n",
       "    'WJ',\n",
       "    'QV',\n",
       "    'EP',\n",
       "    'KI',\n",
       "    'HQ',\n",
       "    'WB',\n",
       "    'JD',\n",
       "    'RA',\n",
       "    'GL',\n",
       "    'BR',\n",
       "    'GY',\n",
       "    'OC',\n",
       "    'NM',\n",
       "    'DQ',\n",
       "    'HW',\n",
       "    'NN',\n",
       "    'RK',\n",
       "    'OR',\n",
       "    'GW',\n",
       "    'CG',\n",
       "    'BL',\n",
       "    'XZ',\n",
       "    'HY',\n",
       "    'DY',\n",
       "    'XE',\n",
       "    'HC',\n",
       "    'UX',\n",
       "    'SM',\n",
       "    'GT',\n",
       "    'YH',\n",
       "    'UK',\n",
       "    'FP',\n",
       "    'SG',\n",
       "    'AI',\n",
       "    'HR',\n",
       "    'RZ',\n",
       "    'PS',\n",
       "    'TQ',\n",
       "    'HS',\n",
       "    'OY',\n",
       "    'KU',\n",
       "    'WY',\n",
       "    'JU',\n",
       "    'PP',\n",
       "    'XH',\n",
       "    'YZ',\n",
       "    'SC',\n",
       "    'OU',\n",
       "    'XN',\n",
       "    'OK',\n",
       "    'WI',\n",
       "    'VX',\n",
       "    'UZ',\n",
       "    'LM',\n",
       "    'TX',\n",
       "    'YB',\n",
       "    'PV',\n",
       "    'SX',\n",
       "    'SH',\n",
       "    'ZP',\n",
       "    'ST',\n",
       "    'OJ',\n",
       "    'LU',\n",
       "    'BH',\n",
       "    'DU',\n",
       "    'US',\n",
       "    'AZ',\n",
       "    'NB',\n",
       "    'OH',\n",
       "    'WD',\n",
       "    'EE',\n",
       "    'MS',\n",
       "    'SU',\n",
       "    'II',\n",
       "    'MA',\n",
       "    'VI',\n",
       "    'HN',\n",
       "    'SS',\n",
       "    'VT',\n",
       "    'VS',\n",
       "    'XA',\n",
       "    'HM',\n",
       "    'TS',\n",
       "    'IN',\n",
       "    'KY',\n",
       "    'XG',\n",
       "    'MJ',\n",
       "    'UG',\n",
       "    'ZQ',\n",
       "    'MQ',\n",
       "    'TO',\n",
       "    'UV',\n",
       "    'BK',\n",
       "    'AD',\n",
       "    'AP',\n",
       "    'YJ',\n",
       "    'LY',\n",
       "    'LF',\n",
       "    'MY',\n",
       "    'ZR',\n",
       "    'QP',\n",
       "    'BW',\n",
       "    'GU',\n",
       "    'NS',\n",
       "    'FE',\n",
       "    'PH',\n",
       "    'NR',\n",
       "    'LA',\n",
       "    'OF',\n",
       "    'GD',\n",
       "    'OS',\n",
       "    'QQ',\n",
       "    'IO',\n",
       "    'KE',\n",
       "    'OI',\n",
       "    'VG',\n",
       "    'TW',\n",
       "    'KX',\n",
       "    'LG',\n",
       "    'GF',\n",
       "    'AU',\n",
       "    'QE',\n",
       "    'SR',\n",
       "    'BE',\n",
       "    'ZH',\n",
       "    'SF',\n",
       "    'XW',\n",
       "    'KL',\n",
       "    'LX',\n",
       "    'TE',\n",
       "    'LN',\n",
       "    'FY',\n",
       "    'FD',\n",
       "    'PZ',\n",
       "    'HL',\n",
       "    'JZ',\n",
       "    'GK',\n",
       "    'QM',\n",
       "    'WR',\n",
       "    'OQ',\n",
       "    'DG',\n",
       "    'DE',\n",
       "    'KJ',\n",
       "    'ML',\n",
       "    'YD',\n",
       "    'QK',\n",
       "    'FJ',\n",
       "    'ET',\n",
       "    'CR',\n",
       "    'IP',\n",
       "    'UW',\n",
       "    'BV',\n",
       "    'OB',\n",
       "    'QL',\n",
       "    'FV',\n",
       "    'SQ',\n",
       "    'DX',\n",
       "    'KK',\n",
       "    'LW',\n",
       "    'EA',\n",
       "    'DM',\n",
       "    'XV',\n",
       "    'GA',\n",
       "    'LC',\n",
       "    'JR',\n",
       "    'NQ',\n",
       "    'QB',\n",
       "    'FX',\n",
       "    'ZB',\n",
       "    'IS',\n",
       "    'KW',\n",
       "    'CP',\n",
       "    'AV',\n",
       "    'YU',\n",
       "    'KD',\n",
       "    'EF',\n",
       "    'IG',\n",
       "    'XT',\n",
       "    'ND',\n",
       "    'OW',\n",
       "    'JH',\n",
       "    'FR',\n",
       "    'SZ',\n",
       "    'SY',\n",
       "    'CU',\n",
       "    'CD',\n",
       "    'DT',\n",
       "    'FC',\n",
       "    'JO',\n",
       "    'EU',\n",
       "    'CL',\n",
       "    'EN',\n",
       "    'QH',\n",
       "    'UB',\n",
       "    'UN',\n",
       "    'AG',\n",
       "    'IT',\n",
       "    'LH',\n",
       "    'YK',\n",
       "    'NI',\n",
       "    'NX',\n",
       "    'QF',\n",
       "    'HG',\n",
       "    'GO',\n",
       "    'YS',\n",
       "    'TT',\n",
       "    'CC',\n",
       "    'HK',\n",
       "    'JC',\n",
       "    'JE',\n",
       "    'JW',\n",
       "    'AQ',\n",
       "    'WQ',\n",
       "    'UH',\n",
       "    'WW',\n",
       "    'NU',\n",
       "    'UO',\n",
       "    'NG',\n",
       "    'CS',\n",
       "    'XO',\n",
       "    'FK',\n",
       "    'DZ',\n",
       "    'DW',\n",
       "    'YT',\n",
       "    'LI',\n",
       "    'YI',\n",
       "    'FZ',\n",
       "    'CI',\n",
       "    'JY',\n",
       "    'UQ',\n",
       "    'EK',\n",
       "    'AL',\n",
       "    'HI',\n",
       "    'QT',\n",
       "    'JV',\n",
       "    'KZ',\n",
       "    'TN',\n",
       "    'YR',\n",
       "    'TD',\n",
       "    'ZZ',\n",
       "    'UP',\n",
       "    'NH',\n",
       "    'DH',\n",
       "    'QS',\n",
       "    'MU',\n",
       "    'PL',\n",
       "    'ER',\n",
       "    'LV',\n",
       "    'HO',\n",
       "    'UL',\n",
       "    'VW',\n",
       "    'SK',\n",
       "    'VD',\n",
       "    'VO',\n",
       "    'SW',\n",
       "    'IM',\n",
       "    'SO',\n",
       "    'NL',\n",
       "    'JQ',\n",
       "    'YY',\n",
       "    'CK',\n",
       "    'VL',\n",
       "    'EX',\n",
       "    'PX',\n",
       "    'EY',\n",
       "    'TJ',\n",
       "    'GN',\n",
       "    'QD',\n",
       "    'MB',\n",
       "    'FG',\n",
       "    'GG',\n",
       "    'TY',\n",
       "    'IW',\n",
       "    'MX',\n",
       "    'DF',\n",
       "    'ZD',\n",
       "    'DI',\n",
       "    'HA',\n",
       "    'XX',\n",
       "    'UM',\n",
       "    'UC',\n",
       "    'YM',\n",
       "    'XJ',\n",
       "    'RW',\n",
       "    'FS',\n",
       "    'AB',\n",
       "    'OV',\n",
       "    'ZX',\n",
       "    'BN',\n",
       "    'ZA',\n",
       "    'HP',\n",
       "    'CJ',\n",
       "    'QG',\n",
       "    'EM',\n",
       "    'KM',\n",
       "    'PO',\n",
       "    'KG',\n",
       "    'ZW',\n",
       "    'CX',\n",
       "    'GQ',\n",
       "    'MP',\n",
       "    'FF',\n",
       "    'HZ',\n",
       "    'CF',\n",
       "    'NC',\n",
       "    'WG',\n",
       "    'XD',\n",
       "    'IK',\n",
       "    'ZJ',\n",
       "    'IL',\n",
       "    'PC',\n",
       "    'QU',\n",
       "    'BO',\n",
       "    'AR',\n",
       "    'VV',\n",
       "    'SB',\n",
       "    'KV',\n",
       "    'CN',\n",
       "    'GV',\n",
       "    'QI',\n",
       "    'AO',\n",
       "    'KR',\n",
       "    'IC',\n",
       "    'PQ',\n",
       "    'XQ',\n",
       "    'MV',\n",
       "    'GH',\n",
       "    'SN',\n",
       "    'FT',\n",
       "    'KO',\n",
       "    'RH',\n",
       "    'WZ',\n",
       "    'MK',\n",
       "    'AK',\n",
       "    'TP',\n",
       "    'XU',\n",
       "    'UJ',\n",
       "    'AW',\n",
       "    'GC',\n",
       "    'SP',\n",
       "    'OA',\n",
       "    'TH',\n",
       "    'WX',\n",
       "    'YA',\n",
       "    'XY',\n",
       "    'OM',\n",
       "    'CY',\n",
       "    'CZ',\n",
       "    'AX',\n",
       "    'EB',\n",
       "    'UI',\n",
       "    'TK',\n",
       "    'XB',\n",
       "    'YW',\n",
       "    'RJ',\n",
       "    'ZC',\n",
       "    'DJ',\n",
       "    'MC',\n",
       "    'IX',\n",
       "    'JP',\n",
       "    'ZE',\n",
       "    'MH',\n",
       "    'TB',\n",
       "    'VR',\n",
       "    'QA',\n",
       "    'ZS',\n",
       "    'BJ',\n",
       "    'RL',\n",
       "    'RY',\n",
       "    'YC',\n",
       "    'JF',\n",
       "    'ZT',\n",
       "    'QC',\n",
       "    'YX',\n",
       "    'QN',\n",
       "    'RR',\n",
       "    'FB',\n",
       "    'WE',\n",
       "    'OO',\n",
       "    'NK',\n",
       "    'ZK',\n",
       "    'ZO',\n",
       "    'ED',\n",
       "    'BQ',\n",
       "    'RE',\n",
       "    'TM',\n",
       "    'JK',\n",
       "    'MG',\n",
       "    'QJ',\n",
       "    'GP',\n",
       "    'UA',\n",
       "    'JG',\n",
       "    'JJ',\n",
       "    'BM',\n",
       "    'YE',\n",
       "    'XS',\n",
       "    'LT',\n",
       "    'LE',\n",
       "    'HU',\n",
       "    'VY',\n",
       "    'EZ',\n",
       "    'KQ',\n",
       "    'EG',\n",
       "    'DO',\n",
       "    'WK',\n",
       "    'RF',\n",
       "    'BC',\n",
       "    'WH',\n",
       "    'VQ',\n",
       "    'KN',\n",
       "    'GE',\n",
       "    'BU',\n",
       "    'BI',\n",
       "    'OD',\n",
       "    'KB',\n",
       "    'MT',\n",
       "    'TU',\n",
       "    'NZ',\n",
       "    'UD',\n",
       "    'HF',\n",
       "    'SI',\n",
       "    'BF',\n",
       "    'KF',\n",
       "    'TZ',\n",
       "    'EI',\n",
       "    'VB',\n",
       "    'RG',\n",
       "    'DP',\n",
       "    'VH',\n",
       "    'UR',\n",
       "    'AC',\n",
       "    'YV',\n",
       "    'KT',\n",
       "    'TC',\n",
       "    'OE',\n",
       "    'AA',\n",
       "    'FM',\n",
       "    'EL',\n",
       "    'DA',\n",
       "    'GM',\n",
       "    'MI',\n",
       "    'RS',\n",
       "    'JS',\n",
       "    'YO',\n",
       "    'ZM',\n",
       "    'TF',\n",
       "    'PW',\n",
       "    'BT',\n",
       "    'DK',\n",
       "    'ZY',\n",
       "    'CW',\n",
       "    'KC',\n",
       "    'DV',\n",
       "    'VM',\n",
       "    'DL',\n",
       "    'TV',\n",
       "    'WN',\n",
       "    'QY',\n",
       "    'CA',\n",
       "    'OX',\n",
       "    'SE',\n",
       "    'JX',\n",
       "    'SL',\n",
       "    'EH',\n",
       "    'ZL',\n",
       "    'JL',\n",
       "    'ZG',\n",
       "    'XF',\n",
       "    'VF',\n",
       "    'RI',\n",
       "    'PE',\n",
       "    'ZI',\n",
       "    'PA',\n",
       "    'LL',\n",
       "    'PK',\n",
       "    'VP',\n",
       "    'RV',\n",
       "    'LZ',\n",
       "    'EO',\n",
       "    'QW',\n",
       "    'DD',\n",
       "    'DS',\n",
       "    'PF',\n",
       "    'OG',\n",
       "    'RM',\n",
       "    'YN',\n",
       "    'IB'],\n",
       "   'percentage_missing_value': 0.0},\n",
       "  'created_at': {'data_type': 'datetime64[ns, UTC]'}}}"
      ]
     },
     "execution_count": 6,
     "metadata": {},
     "output_type": "execute_result"
    }
   ],
   "source": [
    "# Create Reporting Profiling\n",
    "report_patient = patient_profiling.reporting()\n",
    "report_patient"
   ]
  },
  {
   "cell_type": "code",
   "execution_count": 7,
   "metadata": {},
   "outputs": [
    {
     "data": {
      "text/plain": [
       "['doctor_id', 'name', 'phone_number', 'speciality_id', 'created_at']"
      ]
     },
     "execution_count": 7,
     "metadata": {},
     "output_type": "execute_result"
    }
   ],
   "source": [
    "# Profiling Table doctor\n",
    "df_doctor = extract_database('clinic', 'doctor')\n",
    "\n",
    "# create profiling object\n",
    "doctor_profiling = Profiling(data = df_doctor, table_name='doctor')\n",
    "\n",
    "# get columns from the table\n",
    "doctor_profiling.get_columns()"
   ]
  },
  {
   "cell_type": "code",
   "execution_count": 8,
   "metadata": {},
   "outputs": [],
   "source": [
    "# Set Profiling Rule\n",
    "# list check data type (all columns)\n",
    "data_type_column = doctor_profiling.get_columns()\n",
    "\n",
    "#list check unique values\n",
    "unique_values = []\n",
    "\n",
    "#list check percentage missing values\n",
    "missing_values = ['phone_number']\n",
    "\n",
    "#list check valid date values\n",
    "valid_date = []\n",
    "\n",
    "# Set Profiling rule to object\n",
    "doctor_profiling.selected_columns(data_type_column, unique_values, missing_values, valid_date)\n"
   ]
  },
  {
   "cell_type": "code",
   "execution_count": 9,
   "metadata": {},
   "outputs": [
    {
     "name": "stdout",
     "output_type": "stream",
     "text": [
      "{'created_at': '2024-08-13', 'report': {'doctor_id': {'data_type': 'int64'}, 'name': {'data_type': 'object'}, 'phone_number': {'data_type': 'object', 'percentage_missing_value': 0.0}, 'speciality_id': {'data_type': 'float64'}, 'created_at': {'data_type': 'datetime64[ns, UTC]'}}}\n"
     ]
    }
   ],
   "source": [
    "# Create Reporting Profiling\n",
    "report_doctor = doctor_profiling.reporting()"
   ]
  },
  {
   "cell_type": "code",
   "execution_count": 12,
   "metadata": {},
   "outputs": [
    {
     "data": {
      "text/plain": [
       "['speciality_id', 'name', 'created_at']"
      ]
     },
     "execution_count": 12,
     "metadata": {},
     "output_type": "execute_result"
    }
   ],
   "source": [
    "# Profiling Table specialty\n",
    "df_specialty = extract_database('clinic', 'speciality')\n",
    "\n",
    "# create profiling object\n",
    "specialty_profiling = Profiling(data = df_specialty, table_name='speciality')\n",
    "\n",
    "# get columns from the table\n",
    "specialty_profiling.get_columns()"
   ]
  },
  {
   "cell_type": "code",
   "execution_count": 13,
   "metadata": {},
   "outputs": [],
   "source": [
    "# Set Profiling Rule\n",
    "# list check data type (all columns)\n",
    "data_type_column = specialty_profiling.get_columns()\n",
    "\n",
    "#list check unique values\n",
    "unique_values = ['name']\n",
    "\n",
    "#list check percentage missing values\n",
    "missing_values = []\n",
    "\n",
    "#list check valid date values\n",
    "valid_date = []\n",
    "\n",
    "# Set Profiling rule to object\n",
    "specialty_profiling.selected_columns(data_type_column, unique_values, missing_values, valid_date)\n"
   ]
  },
  {
   "cell_type": "code",
   "execution_count": 14,
   "metadata": {},
   "outputs": [
    {
     "name": "stdout",
     "output_type": "stream",
     "text": [
      "{'created_at': '2024-08-13', 'report': {'speciality_id': {'data_type': 'int64'}, 'name': {'data_type': 'object', 'unique_value': ['Cardiology', 'Dermatology', 'Endocrinology', 'Gastroenterology', 'Neurology', 'Ophthalmology', 'Pediatrics']}, 'created_at': {'data_type': 'datetime64[ns, UTC]'}}}\n"
     ]
    }
   ],
   "source": [
    "# Create Reporting Profiling\n",
    "report_specialty = specialty_profiling.reporting()\n"
   ]
  },
  {
   "cell_type": "code",
   "execution_count": 15,
   "metadata": {},
   "outputs": [
    {
     "data": {
      "text/plain": [
       "['medication_id',\n",
       " 'name',\n",
       " 'manufacturer',\n",
       " 'dosage_form',\n",
       " 'strength',\n",
       " 'description',\n",
       " 'created_at']"
      ]
     },
     "execution_count": 15,
     "metadata": {},
     "output_type": "execute_result"
    }
   ],
   "source": [
    "# Profiling Table medication\n",
    "df_medication = extract_database('clinic', 'medication')\n",
    "\n",
    "# create profiling object\n",
    "medication_profiling = Profiling(data = df_medication, table_name='medication')\n",
    "\n",
    "# get columns from the table\n",
    "medication_profiling.get_columns()\n"
   ]
  },
  {
   "cell_type": "code",
   "execution_count": 16,
   "metadata": {},
   "outputs": [],
   "source": [
    "#Set Profiling Rule\n",
    "# list check data type (all columns)\n",
    "data_type_column = medication_profiling.get_columns()\n",
    "\n",
    "#list check unique values\n",
    "unique_values = ['manufacturer', 'dosage_form', 'strength']\n",
    "\n",
    "#list check percentage missing values\n",
    "missing_values = ['manufacturer', 'dosage_form', 'strength', 'description']\n",
    "\n",
    "#list check valid date values\n",
    "valid_date = []\n",
    "\n",
    "# Set Profiling rule to object\n",
    "medication_profiling.selected_columns(data_type_column, unique_values, missing_values, valid_date)"
   ]
  },
  {
   "cell_type": "code",
   "execution_count": 17,
   "metadata": {},
   "outputs": [
    {
     "name": "stdout",
     "output_type": "stream",
     "text": [
      "{'created_at': '2024-08-13', 'report': {'medication_id': {'data_type': 'int64'}, 'name': {'data_type': 'object'}, 'manufacturer': {'data_type': 'object', 'unique_value': ['ABC Pharma', 'XYZ Pharmaceuticals', 'MediCo', 'Pharmalife', 'HealthMeds', 'Wellness Drugs', 'BreathEasy', 'HealPharma', 'AllergyCare', 'HeartGuard', 'CardioHealth', 'ThyroidWell', 'CholesterolControl', 'ReliefMeds', 'MindBalance', 'BloodCare', 'SleepEase', 'KidneyCare', 'PainRelief', 'WaterBalance', 'MicroMed', 'GastroGuard', 'InflammationControl', 'AsthmaCare', 'HeartCare', 'MediCure', 'BreatheEasy', 'HappinessRx', 'MoodStabilize', 'JointRelief', 'StomachEase', 'SleepWell', 'EmotionBalance', 'NeuroCare', 'AnxietyControl', 'SleepAid', 'ThyroidCare', 'AllergyControl', 'AnxietyEase', 'LoveLife', 'AllergyRelief', 'MoodBalance', 'MentalHealth', 'AnxietyRelief', 'CalmEase'], 'percentage_missing_value': 0.0}, 'dosage_form': {'data_type': 'object', 'unique_value': ['Tablet', 'Capsule', 'Inhaler'], 'percentage_missing_value': 0.0}, 'strength': {'data_type': 'object', 'unique_value': ['200mg', '500mg', '10mg', '20mg', '40mg', '1000mg', '100mcg', '81mg', '50mg', '25mg', '5mg', '15mg', '12.5mg', '250mg', '50mcg', '30mg', '150mg', '75mg', '100mg', '300mg', '2mg', '4mg', '220mg', '180mg', '0.5mg'], 'percentage_missing_value': 0.0}, 'description': {'data_type': 'object', 'percentage_missing_value': 0.0}, 'created_at': {'data_type': 'datetime64[ns, UTC]'}}}\n"
     ]
    }
   ],
   "source": [
    "# Create Reporting Profiling\n",
    "report_medication = medication_profiling.reporting()"
   ]
  },
  {
   "cell_type": "code",
   "execution_count": 18,
   "metadata": {},
   "outputs": [
    {
     "data": {
      "text/plain": [
       "['appointment_id',\n",
       " 'patient_id',\n",
       " 'doctor_id',\n",
       " 'appointment_date',\n",
       " 'notes',\n",
       " 'status',\n",
       " 'created_at']"
      ]
     },
     "execution_count": 18,
     "metadata": {},
     "output_type": "execute_result"
    }
   ],
   "source": [
    "# Profiling Table appointment\n",
    "df_appointment = extract_database('clinic', 'appointment')\n",
    "\n",
    "# create profiling object\n",
    "appointment_profiling = Profiling(data = df_appointment, table_name='appointment')\n",
    "\n",
    "# get columns from the table\n",
    "appointment_profiling.get_columns()\n"
   ]
  },
  {
   "cell_type": "code",
   "execution_count": 19,
   "metadata": {},
   "outputs": [],
   "source": [
    "# Set Profiling Rule\n",
    "# list check data type (all columns)\n",
    "data_type_column = appointment_profiling.get_columns()\n",
    "\n",
    "#list check unique values\n",
    "unique_values = ['status']\n",
    "\n",
    "#list check percentage missing values\n",
    "missing_values = appointment_profiling.get_columns()\n",
    "\n",
    "#list check valid date values\n",
    "valid_date = ['appointment_date']\n",
    "\n",
    "# Set Profiling rule to object\n",
    "appointment_profiling.selected_columns(data_type_column, unique_values, missing_values, valid_date)\n"
   ]
  },
  {
   "cell_type": "code",
   "execution_count": 20,
   "metadata": {},
   "outputs": [
    {
     "name": "stdout",
     "output_type": "stream",
     "text": [
      "{'created_at': '2024-08-13', 'report': {'appointment_id': {'data_type': 'int64', 'percentage_missing_value': 0.0}, 'patient_id': {'data_type': 'int64', 'percentage_missing_value': 0.0}, 'doctor_id': {'data_type': 'int64', 'percentage_missing_value': 0.0}, 'appointment_date': {'data_type': 'datetime64[ns]', 'percentage_missing_value': 0.0, 'percentage_valid_date': 100.0}, 'notes': {'data_type': 'object', 'percentage_missing_value': 0.0}, 'status': {'data_type': 'object', 'unique_value': ['completed', None, 'Cancelled'], 'percentage_missing_value': 35.095238095238095}, 'created_at': {'data_type': 'datetime64[ns, UTC]', 'percentage_missing_value': 0.0}}}\n"
     ]
    }
   ],
   "source": [
    "# Create Reporting Profiling\n",
    "report_appointment = appointment_profiling.reporting()"
   ]
  },
  {
   "cell_type": "code",
   "execution_count": 21,
   "metadata": {},
   "outputs": [
    {
     "data": {
      "text/plain": [
       "['prescription_id', 'appointment_id', 'medication_id', 'created_at']"
      ]
     },
     "execution_count": 21,
     "metadata": {},
     "output_type": "execute_result"
    }
   ],
   "source": [
    "# Profiling Table prescription\n",
    "df_prescription = extract_database('clinic', 'prescription')\n",
    "\n",
    "# create profiling object\n",
    "prescription_profiling = Profiling(data = df_prescription, table_name='prescription')\n",
    "\n",
    "# get columns from the table\n",
    "prescription_profiling.get_columns()"
   ]
  },
  {
   "cell_type": "code",
   "execution_count": 22,
   "metadata": {},
   "outputs": [],
   "source": [
    "# Set Profiling Rule\n",
    "# list check data type (all columns)\n",
    "data_type_column = prescription_profiling.get_columns()\n",
    "\n",
    "#list check unique values\n",
    "unique_values = []\n",
    "\n",
    "#list check percentage missing values\n",
    "missing_values = prescription_profiling.get_columns()\n",
    "\n",
    "#list check valid date values\n",
    "valid_date = []\n",
    "\n",
    "# Set Profiling rule to object\n",
    "prescription_profiling.selected_columns(data_type_column, unique_values, missing_values, valid_date)"
   ]
  },
  {
   "cell_type": "code",
   "execution_count": 23,
   "metadata": {},
   "outputs": [
    {
     "name": "stdout",
     "output_type": "stream",
     "text": [
      "{'created_at': '2024-08-13', 'report': {'prescription_id': {'data_type': 'int64', 'percentage_missing_value': 0.0}, 'appointment_id': {'data_type': 'int64', 'percentage_missing_value': 0.0}, 'medication_id': {'data_type': 'int64', 'percentage_missing_value': 0.0}, 'created_at': {'data_type': 'datetime64[ns, UTC]', 'percentage_missing_value': 0.0}}}\n"
     ]
    }
   ],
   "source": [
    "# Create Reporting Profiling\n",
    "report_prescription = prescription_profiling.reporting()"
   ]
  },
  {
   "cell_type": "markdown",
   "metadata": {},
   "source": [
    "#### Profiling Database Clinic Ops"
   ]
  },
  {
   "cell_type": "code",
   "execution_count": 6,
   "metadata": {},
   "outputs": [
    {
     "name": "stdout",
     "output_type": "stream",
     "text": [
      "           table_name\n",
      "0           equipment\n",
      "1          speciality\n",
      "2                role\n",
      "3              salary\n",
      "4      leave_requests\n",
      "5            employee\n",
      "6  maintenance_record\n"
     ]
    }
   ],
   "source": [
    "# Extract Table from Database Clinic Operation\n",
    "list_table = extract_list_table(db_name='clinic_ops')\n",
    "print(list_table)"
   ]
  },
  {
   "cell_type": "code",
   "execution_count": 26,
   "metadata": {},
   "outputs": [
    {
     "data": {
      "text/plain": [
       "['employee_id',\n",
       " 'name',\n",
       " 'phone_number',\n",
       " 'speciality_id',\n",
       " 'role_id',\n",
       " 'created_at']"
      ]
     },
     "execution_count": 26,
     "metadata": {},
     "output_type": "execute_result"
    }
   ],
   "source": [
    "# Profiling Table employee\n",
    "df_employee = extract_database('clinic_ops', 'employee')\n",
    "\n",
    "# create profiling object  \n",
    "employee_profiling = Profiling(data = df_employee, table_name='employee')\n",
    "\n",
    "# get columns from the table\n",
    "employee_profiling.get_columns()"
   ]
  },
  {
   "cell_type": "code",
   "execution_count": 27,
   "metadata": {},
   "outputs": [],
   "source": [
    "# Set Profiling Rule\n",
    "# list check data type (all columns)\n",
    "data_type_column = employee_profiling.get_columns()\n",
    "\n",
    "#list check unique values\n",
    "unique_values = []\n",
    "\n",
    "#list check percentage missing values\n",
    "missing_values = employee_profiling.get_columns()\n",
    "\n",
    "#list check valid date values\n",
    "valid_date = []\n",
    "\n",
    "# Set Profiling rule to object\n",
    "employee_profiling.selected_columns(data_type_column, unique_values, missing_values, valid_date)\n"
   ]
  },
  {
   "cell_type": "code",
   "execution_count": 28,
   "metadata": {},
   "outputs": [
    {
     "name": "stdout",
     "output_type": "stream",
     "text": [
      "{'created_at': '2024-08-13', 'report': {'employee_id': {'data_type': 'int64', 'percentage_missing_value': 0.0}, 'name': {'data_type': 'object', 'percentage_missing_value': 0.0}, 'phone_number': {'data_type': 'object', 'percentage_missing_value': 0.0}, 'speciality_id': {'data_type': 'float64', 'percentage_missing_value': 89.46428571428572}, 'role_id': {'data_type': 'int64', 'percentage_missing_value': 0.0}, 'created_at': {'data_type': 'datetime64[ns, UTC]', 'percentage_missing_value': 0.0}}}\n"
     ]
    }
   ],
   "source": [
    "# Create Reporting Profiling\n",
    "report_employee = employee_profiling.reporting()"
   ]
  },
  {
   "cell_type": "code",
   "execution_count": 29,
   "metadata": {},
   "outputs": [
    {
     "data": {
      "text/plain": [
       "['speciality_id', 'name', 'created_at']"
      ]
     },
     "execution_count": 29,
     "metadata": {},
     "output_type": "execute_result"
    }
   ],
   "source": [
    "# Profiling Table speciality\n",
    "df_speciality = extract_database('clinic_ops', 'speciality')\n",
    "\n",
    "# create profiling object\n",
    "speciality_profiling = Profiling(data = df_speciality, table_name='speciality')\n",
    "\n",
    "# get columns from the table\n",
    "speciality_profiling.get_columns()"
   ]
  },
  {
   "cell_type": "code",
   "execution_count": 30,
   "metadata": {},
   "outputs": [],
   "source": [
    "# Set Profiling Rule\n",
    "# list check data type (all columns)\n",
    "data_type_column = speciality_profiling.get_columns()\n",
    "\n",
    "#list check unique values\n",
    "unique_values = ['name']\n",
    "\n",
    "#list check percentage missing values\n",
    "missing_values = []\n",
    "\n",
    "#list check valid date values\n",
    "valid_date = []\n",
    "\n",
    "# Set Profiling rule to object\n",
    "speciality_profiling.selected_columns(data_type_column, unique_values, missing_values, valid_date)"
   ]
  },
  {
   "cell_type": "code",
   "execution_count": 31,
   "metadata": {},
   "outputs": [
    {
     "name": "stdout",
     "output_type": "stream",
     "text": [
      "{'created_at': '2024-08-13', 'report': {'speciality_id': {'data_type': 'int64'}, 'name': {'data_type': 'object', 'unique_value': ['Cardiology', 'Dermatology', 'Endocrinology', 'Gastroenterology', 'Neurology', 'Ophthalmology', 'Pediatrics']}, 'created_at': {'data_type': 'datetime64[ns, UTC]'}}}\n"
     ]
    }
   ],
   "source": [
    "# Create Reporting Profiling\n",
    "report_speciality = speciality_profiling.reporting()"
   ]
  },
  {
   "cell_type": "code",
   "execution_count": 32,
   "metadata": {},
   "outputs": [
    {
     "data": {
      "text/plain": [
       "['role_id', 'name', 'description', 'created_at']"
      ]
     },
     "execution_count": 32,
     "metadata": {},
     "output_type": "execute_result"
    }
   ],
   "source": [
    "# Profiling Table role\n",
    "df_role = extract_database('clinic_ops', 'role')\n",
    "\n",
    "# create profiling object\n",
    "role_profiling = Profiling(data = df_role, table_name='role')\n",
    "\n",
    "# get columns from the table\n",
    "role_profiling.get_columns()"
   ]
  },
  {
   "cell_type": "code",
   "execution_count": 33,
   "metadata": {},
   "outputs": [],
   "source": [
    "# Set Profiling Rule\n",
    "# list check data type (all columns)\n",
    "data_type_column = role_profiling.get_columns()\n",
    "\n",
    "#list check unique values\n",
    "unique_values = ['name']\n",
    "\n",
    "#list check percentage missing values\n",
    "missing_values = []\n",
    "\n",
    "#list check valid date values\n",
    "valid_date = []\n",
    "\n",
    "# Set Profiling rule to object\n",
    "role_profiling.selected_columns(data_type_column, unique_values, missing_values, valid_date)"
   ]
  },
  {
   "cell_type": "code",
   "execution_count": 34,
   "metadata": {},
   "outputs": [
    {
     "name": "stdout",
     "output_type": "stream",
     "text": [
      "{'created_at': '2024-08-13', 'report': {'role_id': {'data_type': 'int64'}, 'name': {'data_type': 'object', 'unique_value': ['receptionist', 'nurse', 'physician', 'technician', 'administrator', 'doctor']}, 'description': {'data_type': 'object'}, 'created_at': {'data_type': 'datetime64[ns, UTC]'}}}\n"
     ]
    }
   ],
   "source": [
    "# Create Reporting Profiling\n",
    "report_role = role_profiling.reporting()"
   ]
  },
  {
   "cell_type": "code",
   "execution_count": 35,
   "metadata": {},
   "outputs": [
    {
     "data": {
      "text/plain": [
       "['salary_id', 'employee_id', 'amount', 'payment_date', 'created_at']"
      ]
     },
     "execution_count": 35,
     "metadata": {},
     "output_type": "execute_result"
    }
   ],
   "source": [
    "# Profiling Table salary\n",
    "df_salary = extract_database('clinic_ops', 'salary')\n",
    "\n",
    "# create profiling object\n",
    "salary_profiling = Profiling(data = df_salary, table_name='salary')\n",
    "\n",
    "# get columns from the table\n",
    "salary_profiling.get_columns()"
   ]
  },
  {
   "cell_type": "code",
   "execution_count": 37,
   "metadata": {},
   "outputs": [],
   "source": [
    "# Set Profiling Rule\n",
    "# list check data type (all columns)\n",
    "data_type_column = salary_profiling.get_columns()\n",
    "\n",
    "#list check unique values\n",
    "unique_values = []\n",
    "\n",
    "#list check percentage missing values\n",
    "missing_values = salary_profiling.get_columns()\n",
    "\n",
    "#list check valid date values\n",
    "valid_date = ['payment_date']\n",
    "\n",
    "# Set Profiling rule to object\n",
    "salary_profiling.selected_columns(data_type_column, unique_values, missing_values, valid_date)"
   ]
  },
  {
   "cell_type": "code",
   "execution_count": 38,
   "metadata": {},
   "outputs": [
    {
     "name": "stdout",
     "output_type": "stream",
     "text": [
      "{'created_at': '2024-08-13', 'report': {'salary_id': {'data_type': 'int64', 'percentage_missing_value': 0.0}, 'employee_id': {'data_type': 'int64', 'percentage_missing_value': 0.0}, 'amount': {'data_type': 'float64', 'percentage_missing_value': 0.0}, 'payment_date': {'data_type': 'object', 'percentage_missing_value': 0.0, 'percentage_valid_date': 100.0}, 'created_at': {'data_type': 'datetime64[ns, UTC]', 'percentage_missing_value': 0.0}}}\n"
     ]
    }
   ],
   "source": [
    "# Create Reporting Profiling\n",
    "report_salary = salary_profiling.reporting()"
   ]
  },
  {
   "cell_type": "code",
   "execution_count": 40,
   "metadata": {},
   "outputs": [
    {
     "data": {
      "text/plain": [
       "['leave_id',\n",
       " 'employee_id',\n",
       " 'leave_type',\n",
       " 'start_date',\n",
       " 'end_date',\n",
       " 'status',\n",
       " 'created_at']"
      ]
     },
     "execution_count": 40,
     "metadata": {},
     "output_type": "execute_result"
    }
   ],
   "source": [
    "# Profiling Table leave_request\n",
    "df_leave_request = extract_database('clinic_ops', 'leave_requests')\n",
    "\n",
    "# create profiling object\n",
    "leave_request_profiling = Profiling(data = df_leave_request, table_name='leave_requests')\n",
    "\n",
    "# get columns from the table\n",
    "leave_request_profiling.get_columns()\n"
   ]
  },
  {
   "cell_type": "code",
   "execution_count": 41,
   "metadata": {},
   "outputs": [],
   "source": [
    "# Set Profiling Rule\n",
    "# list check data type (all columns)\n",
    "data_type_column = leave_request_profiling.get_columns()\n",
    "\n",
    "#list check unique values\n",
    "unique_values = ['leave_type','status']\n",
    "\n",
    "#list check percentage missing values\n",
    "missing_values = leave_request_profiling.get_columns()\n",
    "\n",
    "#list check valid date values\n",
    "valid_date = ['start_date','end_date']\n",
    "\n",
    "# Set Profiling rule to object\n",
    "leave_request_profiling.selected_columns(data_type_column, unique_values, missing_values, valid_date)"
   ]
  },
  {
   "cell_type": "code",
   "execution_count": 42,
   "metadata": {},
   "outputs": [
    {
     "name": "stdout",
     "output_type": "stream",
     "text": [
      "{'created_at': '2024-08-13', 'report': {'leave_id': {'data_type': 'int64', 'percentage_missing_value': 0.0}, 'employee_id': {'data_type': 'int64', 'percentage_missing_value': 0.0}, 'leave_type': {'data_type': 'object', 'unique_value': ['Annual', 'Parental', 'Casual', 'Religous', 'Sick'], 'percentage_missing_value': 0.0}, 'start_date': {'data_type': 'object', 'percentage_missing_value': 0.0, 'percentage_valid_date': 100.0}, 'end_date': {'data_type': 'object', 'percentage_missing_value': 0.0, 'percentage_valid_date': 100.0}, 'status': {'data_type': 'object', 'unique_value': ['Approved', 'Rejected', 'Pending'], 'percentage_missing_value': 0.0}, 'created_at': {'data_type': 'datetime64[ns, UTC]', 'percentage_missing_value': 0.0}}}\n"
     ]
    }
   ],
   "source": [
    "# Create Reporting Profiling\n",
    "report_leave_request = leave_request_profiling.reporting()"
   ]
  },
  {
   "cell_type": "code",
   "execution_count": 43,
   "metadata": {},
   "outputs": [
    {
     "data": {
      "text/plain": [
       "['equipment_id',\n",
       " 'name',\n",
       " 'serial_number',\n",
       " 'purchase_date',\n",
       " 'warranty_expiration',\n",
       " 'location',\n",
       " 'created_at']"
      ]
     },
     "execution_count": 43,
     "metadata": {},
     "output_type": "execute_result"
    }
   ],
   "source": [
    "# Profiling Table equipment\n",
    "df_equipment = extract_database('clinic_ops', 'equipment')\n",
    "\n",
    "# create profiling object\n",
    "equipment_profiling = Profiling(data = df_equipment, table_name='equipment')\n",
    "\n",
    "# get columns from the table\n",
    "equipment_profiling.get_columns()\n"
   ]
  },
  {
   "cell_type": "code",
   "execution_count": 44,
   "metadata": {},
   "outputs": [],
   "source": [
    "# Set Profiling Rule\n",
    "# list check data type (all columns)\n",
    "data_type_column = equipment_profiling.get_columns()\n",
    "\n",
    "#list check unique values\n",
    "unique_values = ['location']\n",
    "\n",
    "#list check percentage missing values\n",
    "missing_values = equipment_profiling.get_columns()\n",
    "\n",
    "#list check valid date values\n",
    "valid_date = []\n",
    "\n",
    "# Set Profiling rule to object\n",
    "equipment_profiling.selected_columns(data_type_column, unique_values, missing_values, valid_date)"
   ]
  },
  {
   "cell_type": "code",
   "execution_count": 46,
   "metadata": {},
   "outputs": [
    {
     "name": "stdout",
     "output_type": "stream",
     "text": [
      "{'created_at': '2024-08-13', 'report': {'equipment_id': {'data_type': 'int64', 'percentage_missing_value': 0.0}, 'name': {'data_type': 'object', 'percentage_missing_value': 0.0}, 'serial_number': {'data_type': 'object', 'percentage_missing_value': 0.0}, 'purchase_date': {'data_type': 'object', 'percentage_missing_value': 0.0}, 'warranty_expiration': {'data_type': 'object', 'percentage_missing_value': 0.0}, 'location': {'data_type': 'object', 'unique_value': ['General Instruments', 'OPD', 'Operation Theater', 'Operation Theater or Manual', 'Ophthalmic and ENT', 'Ophthalmic and ENTm', 'labour room'], 'percentage_missing_value': 0.0}, 'created_at': {'data_type': 'datetime64[ns, UTC]', 'percentage_missing_value': 0.0}}}\n"
     ]
    }
   ],
   "source": [
    "# Create Reporting Profiling\n",
    "report_equipment = equipment_profiling.reporting()"
   ]
  },
  {
   "cell_type": "code",
   "execution_count": 55,
   "metadata": {},
   "outputs": [
    {
     "data": {
      "text/plain": [
       "['record_id',\n",
       " 'equipment_id',\n",
       " 'maintenance_date',\n",
       " 'description',\n",
       " 'cost',\n",
       " 'created_at']"
      ]
     },
     "execution_count": 55,
     "metadata": {},
     "output_type": "execute_result"
    }
   ],
   "source": [
    "# Profiling Table maintenance_report\n",
    "df_maintenance_report = extract_database('clinic_ops', 'maintenance_record')\n",
    "\n",
    "# create profiling object\n",
    "maintenance_report_profiling = Profiling(data = df_maintenance_report, table_name='maintenance_record')\n",
    "\n",
    "# get columns from the table\n",
    "maintenance_report_profiling.get_columns()"
   ]
  },
  {
   "cell_type": "code",
   "execution_count": 56,
   "metadata": {},
   "outputs": [],
   "source": [
    "# Set Profiling Rule\n",
    "# list check data type (all columns)\n",
    "data_type_column = maintenance_report_profiling.get_columns()\n",
    "\n",
    "#list check unique values\n",
    "unique_values = []\n",
    "\n",
    "#list check percentage missing values\n",
    "missing_values = maintenance_report_profiling.get_columns()\n",
    "\n",
    "#list check valid date values\n",
    "valid_date = ['maintenance_date']\n",
    "\n",
    "# Set Profiling rule to object\n",
    "maintenance_report_profiling.selected_columns(data_type_column, unique_values, missing_values, valid_date)\n"
   ]
  },
  {
   "cell_type": "code",
   "execution_count": 57,
   "metadata": {},
   "outputs": [
    {
     "name": "stdout",
     "output_type": "stream",
     "text": [
      "{'created_at': '2024-08-13', 'report': {'record_id': {'data_type': 'int64', 'percentage_missing_value': 0.0}, 'equipment_id': {'data_type': 'int64', 'percentage_missing_value': 0.0}, 'maintenance_date': {'data_type': 'object', 'percentage_missing_value': 0.0, 'percentage_valid_date': 100.0}, 'description': {'data_type': 'object', 'percentage_missing_value': 0.0}, 'cost': {'data_type': 'object', 'percentage_missing_value': 0.0}, 'created_at': {'data_type': 'datetime64[ns, UTC]', 'percentage_missing_value': 0.0}}}\n"
     ]
    }
   ],
   "source": [
    "# Create Reporting Profiling\n",
    "report_maintenance_report = maintenance_report_profiling.reporting()"
   ]
  },
  {
   "cell_type": "markdown",
   "metadata": {},
   "source": [
    "### Pipeline Source to Staging Area"
   ]
  },
  {
   "cell_type": "code",
   "execution_count": 15,
   "metadata": {},
   "outputs": [],
   "source": [
    "from src.staging.extract.extract_database import extract_database\n",
    "from src.staging.load.load import load_staging\n",
    "from src.staging.extract.extract_spreadsheet import extract_spreadsheet"
   ]
  },
  {
   "cell_type": "markdown",
   "metadata": {},
   "source": [
    "Solution: \n",
    "1. Pattern: EL\n",
    "    - `Data Extraction` involves retrieving data from various sources\n",
    "    - `Data Loading` involves transferring this raw data into staging systems\n",
    "2. Data Extraction:\n",
    "    - Sources: Extract data from spreadsheets, databases clinic and database clinic ops.\n",
    "    - Techniques: Use both full and incremental extraction methods to retrieve data efficiently.\n",
    "        - Full Ingestion: For Spreadsheet Data, and Initial Ingestion\n",
    "        - Incremental Ingestion: For Database Data\n",
    "3. Data Load:\n",
    "    - Staging: Load raw data into a staging database (PostgreSQL) without transformation.\n",
    "    - Failure Handling: Log failed data loads to MinIO object storage\n",
    "4. Data Staging Schema:\n",
    "\n",
    "<img src='https://sekolahdata-assets.s3.ap-southeast-1.amazonaws.com/notebook-images/mde-data-ingestion-spark/staging_clinic_-_public.png' width=\"800\"> <br>\n",
    "\n"
   ]
  },
  {
   "cell_type": "markdown",
   "metadata": {},
   "source": [
    "#### Extraction\n"
   ]
  },
  {
   "cell_type": "markdown",
   "metadata": {},
   "source": [
    "##### 1. Extract Data From Database Clinic\n",
    "\n",
    "Extract Data From PostgreSQL\n",
    "\n",
    "- Full Extraction: Initial Load\n",
    "- Incremental Extraction: Get new and updated data\n",
    "\n",
    "Steps:\n",
    "1. Establish Database Connection: Connects to a PostgreSQL database named clinic.\n",
    "2. Read Log Data: Reads existing log data from log.csv to determine the last successful extraction timestamp (etl_date).\n",
    "3. Initial Load or Incremental Extraction:\n",
    "    - If no previous extraction has been recorded (etl_date is empty), set etl_date to '1111-01-01' indicating the initial load.\n",
    "    - Otherwise, retrieve data added since the last successful extraction (etl_date).\n",
    "4. Query Execution: Constructs a SQL query to select all columns from the specified table_name where created_at is greater than etl_date.\n",
    "5. Data Extraction: Executes the SQL query using pd.read_sql to fetch the data into a Pandas DataFrame (df)."
   ]
  },
  {
   "cell_type": "code",
   "execution_count": 16,
   "metadata": {},
   "outputs": [],
   "source": [
    "# Extarct Data\n",
    "df_speciality = extract_database(db_name='clinic', table_name = \"speciality\")\n",
    "df_doctor = extract_database(db_name='clinic', table_name = \"doctor\")\n",
    "df_patient = extract_database(db_name='clinic', table_name = \"patient\")\n",
    "df_medication = extract_database(db_name='clinic', table_name = \"medication\")\n",
    "df_appointment = extract_database(db_name='clinic', table_name = \"appointment\")\n",
    "df_prescription = extract_database(db_name='clinic', table_name = \"prescription\")\n"
   ]
  },
  {
   "cell_type": "code",
   "execution_count": 17,
   "metadata": {},
   "outputs": [],
   "source": [
    "# Load Extracted Data to Staging\n",
    "load_staging(data=df_speciality, table_name='speciality', schema='public', idx_name='speciality_id', source='database clinic')\n",
    "load_staging(data=df_doctor, table_name='doctor', schema='public', idx_name='doctor_id', source='database clinic')\n",
    "load_staging(data=df_patient, table_name='patient', schema='public', idx_name='patient_id', source='database clinic')\n",
    "load_staging(data=df_medication, table_name='medication', schema='public', idx_name='medication_id', source='database clinic')\n",
    "load_staging(data=df_appointment, table_name='appointment', schema='public', idx_name='appointment_id', source='database clinic')\n",
    "load_staging(data=df_prescription, table_name='prescription', schema='public', idx_name='prescription_id', source='database clinic')"
   ]
  },
  {
   "cell_type": "markdown",
   "metadata": {},
   "source": [
    "##### 2. Extract Data From Database Clinc Ops"
   ]
  },
  {
   "cell_type": "code",
   "execution_count": 11,
   "metadata": {},
   "outputs": [],
   "source": [
    "# Extract Data\n",
    "df_speciality = extract_database(db_name='clinic_ops', table_name='speciality_ops')\n",
    "df_role = extract_database(db_name='clinic_ops', table_name='role')\n",
    "df_employee = extract_database(db_name='clinic_ops', table_name='employee')\n",
    "df_salary = extract_database(db_name='clinic_ops', table_name='salary')\n",
    "df_leave_requests = extract_database(db_name='clinic_ops', table_name='leave_requests')\n",
    "df_equipment = extract_database(db_name='clinic_ops', table_name='equipment')\n",
    "df_maintenance_record = extract_database(db_name='clinic_ops', table_name='maintenance_record')"
   ]
  },
  {
   "cell_type": "code",
   "execution_count": 12,
   "metadata": {},
   "outputs": [],
   "source": [
    "# Load Extracted Data to Staging\n",
    "load_staging(data=df_speciality, table_name='speciality_ops', schema='public', idx_name='speciality_id', source='database clinic_ops')\n",
    "load_staging(data=df_role, table_name='role', schema='public', idx_name='role_id', source='database clinic_ops')\n",
    "load_staging(data=df_employee, table_name='employee', schema='public', idx_name='employee_id', source='database clinic_ops')\n",
    "load_staging(data=df_salary, table_name='salary', schema='public', idx_name='salary_id', source='database clinic_ops')\n",
    "load_staging(data=df_leave_requests, table_name='leave_requests', schema='public', idx_name='leave_id', source='database clinic_ops')\n",
    "load_staging(data=df_equipment, table_name='equipment', schema='public', idx_name='equipment_id', source='database clinic_ops')\n",
    "load_staging(data=df_maintenance_record, table_name='maintenance_record', schema='public', idx_name='record_id', source='database clinic_ops')"
   ]
  },
  {
   "cell_type": "markdown",
   "metadata": {},
   "source": [
    "##### 3. Extract Data From Spreadsheet"
   ]
  },
  {
   "cell_type": "code",
   "execution_count": 2,
   "metadata": {},
   "outputs": [],
   "source": [
    "# Extract Data\n",
    "df_maintenance_request = extract_spreadsheet('maintenance_request')\n",
    "\n",
    "# set index as new column and identifier\n",
    "df_maintenance_request = df_maintenance_request.reset_index()\n",
    "df_maintenance_request.rename(columns={'index':'id'}, inplace=True)"
   ]
  },
  {
   "cell_type": "code",
   "execution_count": 3,
   "metadata": {},
   "outputs": [],
   "source": [
    "# Load Extracted Data to Staging\n",
    "load_staging(data=df_maintenance_request, table_name='maintenance_request', schema='public', idx_name='id', source='spreadsheet')"
   ]
  },
  {
   "cell_type": "markdown",
   "metadata": {},
   "source": [
    "### Pipeline Staging to Warehouse"
   ]
  },
  {
   "cell_type": "markdown",
   "metadata": {},
   "source": [
    "Solution: \n",
    "1. Pattern: ETL\n",
    "    - `Data Extraction` involves retrieving data from various sources\n",
    "    - `Data Transformation` involve transformed data to fit the desired format or structure.\n",
    "    - `Data Validation`  the transformed data is checked for accuracy, completeness, and consistency.\n",
    "    - `Data Loading` involves transferring this raw data into data warehouse\n",
    "\n",
    "2. Data Extraction:\n",
    "    - Sources: Extract data from staging area.\n",
    "    - Techniques: Use both full and incremental extraction methods to retrieve data efficiently.\n",
    "        - Full Ingestion: First Ingestion\n",
    "        - Incremental Ingestion: For Next Iteration\n",
    "3. Data Load:\n",
    "    - Data Warehouse: Load clean, transformed and valid data to the final destination.\n",
    "    - Failure Handling: Log failed data loads to MinIO object storage for reprocessing\n",
    "\n",
    "4. Data Transformation:\n",
    "    - Cleaning: Handle missing values, incorrect data formats, and other data quality issues.\n",
    "    - Techniques: Joining, Filtering, Aggregation, Deduplication, Conversion, Structuring, etc\n",
    "\n",
    "5. Data Validation\n",
    "    - Data validation is the process of ensuring that data is accurate, complete, and consistent.\n",
    "    - Techniques: \n",
    "        - check missing values, \n",
    "        - verifying data types, \n",
    "        - performing range checks, \n",
    "        - or applying any other rules or constraints to ensure the quality and integrity of the data.\n"
   ]
  },
  {
   "cell_type": "markdown",
   "metadata": {},
   "source": [
    "#### Target Schema\n",
    "In the data warehouse, the target schema will be designed using a `dimensional model`\n",
    "Dimension Table:\n",
    "- dim_date\n",
    "- dim_time\n",
    "- dim_doctor\n",
    "- dim_patient\n",
    "- dim_medication\n",
    "- dim_employee\n",
    "- dim_equipment\n",
    "\n",
    "Fact Table\n",
    "- fact_appointment\n",
    "- fact_salary\n",
    "- fact_leave_requests\n",
    "- fact_maintenance_request\n",
    "- fact_maintenance_report\n",
    "\n",
    "\n",
    "<img src= https://sekolahdata-assets.s3.ap-southeast-1.amazonaws.com/notebook-images/mde-data-ingestion-spark/warehouse_clinic_-_public.png width=\"800\"> <br>\n"
   ]
  },
  {
   "cell_type": "markdown",
   "metadata": {},
   "source": [
    "#### Source to Target Mapping\n",
    "Source to Target Mapping Documentation: [Link](https://github.com/Kurikulum-Sekolah-Pacmann/pipeline-clinic/blob/main/target_mapping_warehouse.md)"
   ]
  },
  {
   "cell_type": "markdown",
   "metadata": {},
   "source": [
    "#### Validation Rule\n",
    "\n",
    "Validation Rule:\n",
    "1. `Doctor Data Validation`\n",
    "Checks:\n",
    "- Phone Number Validation:\n",
    "    - Criteria: Phone numbers must conform to the pattern allowing optional '+' as first value, followed by 9 to 15 digits.\n",
    "    - Purpose: To identify doctor with invalid phone numbers.\n",
    "- Specialty Information Check:\n",
    "    - Criteria: The speciality_id column should not contain null values.\n",
    "    - Purpose: To ensure that each doctor is associated with a valid specialty.\n",
    "\n",
    "2. `Patient Data Validation`\n",
    "Checks:\n",
    "- Phone Number Validation:\n",
    "    - Criteria: Phone numbers must conform to the pattern allowing optional '+' as first value, followed by 9 to 15 digits.\n",
    "    - Purpose: To identify patient with invalid phone numbers.\n",
    "\n",
    "3. `Employee Data Validation`\n",
    "Checks:\n",
    "- Phone Number Validation:\n",
    "    - Criteria: Phone numbers must conform to the pattern allowing optional '+' as first value, followed by 9 to 15 digits.\n",
    "    - Purpose: To identify employee with invalid phone numbers.\n",
    "\n",
    "4. `Leave Requests Data Validation`\n",
    "Checks:\n",
    "- Leave Type Validation:\n",
    "    - Criteria: Leave types must be one of the following: \"Parental\", \"Sick\", \"Religous\", or \"Annual\".\n",
    "    - Purpose: To identify invalid leave type entries.\n",
    "\n",
    "5. `Equipment Data Validation`\n",
    "Checks:\n",
    "- Equipment Age Validation:\n",
    "    - Criteria: Equipment purchased more than 8 years ago is considered old.\n",
    "    - Purpose: To identify old equipment that may need replacement or review.\n",
    "\n",
    "    \n",
    "All Data will Load to Warehuse, but every validation report will save to MiniO as JSON file"
   ]
  },
  {
   "cell_type": "markdown",
   "metadata": {},
   "source": [
    "#### Pipeline Warehouse"
   ]
  },
  {
   "cell_type": "code",
   "execution_count": 1,
   "metadata": {},
   "outputs": [],
   "source": [
    "from src.warehouse.extract.extract_database import extract_staging\n",
    "from src.warehouse.load.load import load_warehouse\n",
    "\n",
    "from src.warehouse.transformation.speciality import transform_speciality\n",
    "from src.warehouse.transformation.doctor import transform_doctor\n",
    "from src.warehouse.transformation.patient import transform_patient\n",
    "from src.warehouse.transformation.medication import transform_medication\n",
    "from src.warehouse.transformation.fact_appointment import transform_fact_appointment\n",
    "from src.warehouse.transformation.employee import transform_employee\n",
    "from src.warehouse.transformation.fact_salary import transform_fact_salary\n",
    "from src.warehouse.transformation.fact_leave_request import transform_fact_leave_request\n",
    "from src.warehouse.transformation.equipment import transform_equipment\n",
    "from src.warehouse.transformation.fact_maintenance_request import transform_fact_maintenance_request\n",
    "from src.warehouse.transformation.fact_maintenance_record import transform_fact_maintenance_record\n",
    "from src.warehouse.validation.validation import report_validation_doctor, report_validation_patient, report_validation_employee, report_validation_leave_requests, report_validation_equipment"
   ]
  },
  {
   "cell_type": "code",
   "execution_count": 2,
   "metadata": {},
   "outputs": [],
   "source": [
    "# Extract Data from Staging\n",
    "df_doctor = extract_staging(table_name='doctor')\n",
    "df_patient = extract_staging(table_name='patient')\n",
    "df_speciality = extract_staging(table_name='speciality')\n",
    "df_medication = extract_staging(table_name='medication')\n",
    "df_appointment = extract_staging(table_name='appointment')\n",
    "df_prescription = extract_staging(table_name='prescription')\n",
    "df_employee = extract_staging(table_name='employee')\n",
    "df_role = extract_staging(table_name='role')\n",
    "df_salary = extract_staging(table_name='salary')\n",
    "df_leave_requests = extract_staging(table_name='leave_requests')\n",
    "df_equipment = extract_staging(table_name='equipment')\n",
    "df_maintenance_record = extract_staging(table_name='maintenance_record')\n",
    "df_maintenance_request = extract_staging(table_name='maintenance_request')\n",
    "df_speciality_ops = extract_staging(table_name='speciality_ops')"
   ]
  },
  {
   "cell_type": "code",
   "execution_count": 3,
   "metadata": {},
   "outputs": [],
   "source": [
    "# Transform data speciality and load to warehouse\n",
    "speciality_transformed = transform_speciality(df_speciality, table_name='dim_speciality')\n",
    "load_warehouse(data=speciality_transformed, table_name='dim_speciality', \n",
    "               schema='public', idx_name='speciality_nk', table_process='speciality', source='staging')"
   ]
  },
  {
   "cell_type": "code",
   "execution_count": 4,
   "metadata": {},
   "outputs": [
    {
     "name": "stdout",
     "output_type": "stream",
     "text": [
      "Save validation report as doctor_2024-08-13.json\n"
     ]
    }
   ],
   "source": [
    "# Transform data doctor, create report validation and load to warehouse\n",
    "doctor_transformed = transform_doctor(df_doctor, table_name='dim_doctor')\n",
    "report_validation_doctor(doctor_transformed)\n",
    "load_warehouse(data=doctor_transformed, table_name='dim_doctor', \n",
    "               schema='public', idx_name='doctor_nk', table_process='doctor', source='staging')"
   ]
  },
  {
   "cell_type": "code",
   "execution_count": 5,
   "metadata": {},
   "outputs": [
    {
     "name": "stdout",
     "output_type": "stream",
     "text": [
      "Save validation report as patient_2024-08-13.json\n"
     ]
    }
   ],
   "source": [
    "# Transform data patient, create report validation and load to warehouse\n",
    "patient_transformed = transform_patient(df_patient, table_name='dim_patient')\n",
    "report_validation_patient(patient_transformed)\n",
    "load_warehouse(data=patient_transformed, table_name='dim_patient', \n",
    "               schema='public', idx_name='patient_nk', table_process='patient', source='staging')"
   ]
  },
  {
   "cell_type": "code",
   "execution_count": 6,
   "metadata": {},
   "outputs": [],
   "source": [
    "# Transform data medication and load to warehouse\n",
    "medication_transformed = transform_medication(df_medication, table_name='dim_medication')\n",
    "load_warehouse(data=medication_transformed, table_name='dim_medication', \n",
    "               schema='public', idx_name='medication_nk', table_process='medication', source='staging')"
   ]
  },
  {
   "cell_type": "code",
   "execution_count": 7,
   "metadata": {},
   "outputs": [],
   "source": [
    "# Create table fact_appointment from transforming data appointment and prescription and load to warehouse\n",
    "fact_appointment_transformed = transform_fact_appointment(df_appointment, df_prescription, table_name='fact_appointment')\n",
    "load_warehouse(data=fact_appointment_transformed, table_name='fact_appointment', \n",
    "               schema='public', idx_name=['appointment_nk','prescription_nk'], table_process='appointment', source='staging')"
   ]
  },
  {
   "cell_type": "code",
   "execution_count": 8,
   "metadata": {},
   "outputs": [
    {
     "name": "stdout",
     "output_type": "stream",
     "text": [
      "Save validation report as employee_2024-08-13.json\n"
     ]
    }
   ],
   "source": [
    "# Transform data employee, create report validation and load to warehouse\n",
    "employee_transformed = transform_employee(df_employee, df_speciality_ops, df_role, table_name='dim_employee')\n",
    "report_validation_employee(employee_transformed)\n",
    "load_warehouse(data=employee_transformed, table_name='dim_employee', \n",
    "               schema='public', idx_name='employee_nk', table_process='employee', source='staging')"
   ]
  },
  {
   "cell_type": "code",
   "execution_count": 9,
   "metadata": {},
   "outputs": [],
   "source": [
    "# Create table fact_salary from transforming data salary and load to warehouse\n",
    "salary_transformed = transform_fact_salary(df_salary, table_name='fact_salary')\n",
    "load_warehouse(data=salary_transformed, table_name='fact_salary', \n",
    "               schema='public', idx_name='salary_nk', table_process='salary', source='staging')"
   ]
  },
  {
   "cell_type": "code",
   "execution_count": 10,
   "metadata": {},
   "outputs": [
    {
     "name": "stdout",
     "output_type": "stream",
     "text": [
      "Save validation report as fact_leave_requests_2024-08-13.json\n"
     ]
    }
   ],
   "source": [
    "# Create table fact_leave_request from transforming data leave_requests, create validation report and load to warehouse\n",
    "leave_requests_transformed = transform_fact_leave_request(df_leave_requests, table_name='fact_leave_requests')\n",
    "report_validation_leave_requests(leave_requests_transformed)\n",
    "load_warehouse(data=leave_requests_transformed, table_name='fact_leave_requests', \n",
    "               schema='public', idx_name='leave_request_nk', table_process='leave_requests', source='staging')"
   ]
  },
  {
   "cell_type": "code",
   "execution_count": 3,
   "metadata": {},
   "outputs": [
    {
     "name": "stdout",
     "output_type": "stream",
     "text": [
      "Save validation report as equipment_2024-08-13.json\n"
     ]
    }
   ],
   "source": [
    "# Transform data equipment, create validation report and load to warehouse\n",
    "equipment_transformed = transform_equipment(df_equipment, table_name='dim_equipment')\n",
    "report_validation_equipment(equipment_transformed)\n",
    "load_warehouse(data=equipment_transformed, table_name='dim_equipment', \n",
    "               schema='public', idx_name='equipment_nk', table_process='equipment', source='staging')"
   ]
  },
  {
   "cell_type": "code",
   "execution_count": 4,
   "metadata": {},
   "outputs": [],
   "source": [
    "# Create table fact_maintenance_request from transforming data maintenance_request and load to warehouse\n",
    "maintenance_request_transformed = transform_fact_maintenance_request(df_maintenance_request, table_name='fact_maintenance_request')\n",
    "load_warehouse(data=maintenance_request_transformed, table_name='fact_maintenance_request', \n",
    "               schema='public', idx_name='maintenance_request_nk', table_process='maintenance_request', source='staging')"
   ]
  },
  {
   "cell_type": "code",
   "execution_count": 5,
   "metadata": {},
   "outputs": [],
   "source": [
    "# Create table fact_maintenance_record from transforming data maintenance_record and load to warehouse\n",
    "maintenance_report_transformed = transform_fact_maintenance_record(df_maintenance_record, table_name='fact_maintenance_record')\n",
    "load_warehouse(data=maintenance_report_transformed, table_name='fact_maintenance_record', \n",
    "               schema='public', idx_name='maintenance_record_nk', table_process='maintenance_record', source='staging')"
   ]
  }
 ],
 "metadata": {
  "kernelspec": {
   "display_name": "Python 3",
   "language": "python",
   "name": "python3"
  },
  "language_info": {
   "codemirror_mode": {
    "name": "ipython",
    "version": 3
   },
   "file_extension": ".py",
   "mimetype": "text/x-python",
   "name": "python",
   "nbconvert_exporter": "python",
   "pygments_lexer": "ipython3",
   "version": "3.11.9"
  }
 },
 "nbformat": 4,
 "nbformat_minor": 2
}
